{
 "cells": [
  {
   "cell_type": "markdown",
   "id": "c0347785-125b-441c-9bc0-98cac1b58915",
   "metadata": {},
   "source": [
    "# PYTHON FUNDAMENTALS"
   ]
  },
  {
   "cell_type": "markdown",
   "id": "399bb86b-7de8-445d-8135-bc89bdcee72a",
   "metadata": {},
   "source": [
    "#### 1.Write Python code that prints your name, student number and email address."
   ]
  },
  {
   "cell_type": "code",
   "execution_count": 5,
   "id": "e9055e0a-1fa4-43a3-8a00-e014ff823097",
   "metadata": {},
   "outputs": [
    {
     "name": "stdout",
     "output_type": "stream",
     "text": [
      "Name:Henna Kt\n",
      "Stn no:007\n",
      "email:Henna@gmail.com\n"
     ]
    }
   ],
   "source": [
    "print(\"Name:Henna Kt\")\n",
    "print(\"Stn no:007\")\n",
    "print(\"email:Henna@gmail.com\")"
   ]
  },
  {
   "cell_type": "markdown",
   "id": "102a2a49-fcf5-4819-8c36-80f588b0c199",
   "metadata": {},
   "source": [
    "#### 2.Write Python code that prints your name, student number and email address using escape sequences."
   ]
  },
  {
   "cell_type": "code",
   "execution_count": 8,
   "id": "f215bd1a-b94d-4cd2-83a3-db732f3a5a56",
   "metadata": {},
   "outputs": [
    {
     "name": "stdout",
     "output_type": "stream",
     "text": [
      "Name:Henna Kt \n",
      "Stn no:007 \n",
      "email:Henna@gmail.com\n"
     ]
    }
   ],
   "source": [
    "print(\"Name:Henna Kt \\nStn no:007 \\nemail:Henna@gmail.com\")"
   ]
  },
  {
   "cell_type": "markdown",
   "id": "aada0f92-0375-41c9-9256-124501c00e33",
   "metadata": {},
   "source": [
    "#### 3.Write Python code that add, subtract, multiply and divide the two numbers. You can use the two numbers 14 and 7."
   ]
  },
  {
   "cell_type": "code",
   "execution_count": 11,
   "id": "5508e4c9-7a2d-4630-b30b-c394a7ea27d5",
   "metadata": {},
   "outputs": [
    {
     "name": "stdout",
     "output_type": "stream",
     "text": [
      "x1+x2= : 21\n",
      "x1-x2=: 7\n",
      "x1*x2=: 98\n",
      "x1/x2=: 2.0\n"
     ]
    }
   ],
   "source": [
    "x1 = 14\n",
    "x2 = 7\n",
    "a = x1+x2\n",
    "b = x1-x2\n",
    "c = x1*x2\n",
    "d = x1/x2\n",
    "print(\"x1+x2= :\",a)\n",
    "print(\"x1-x2=:\",b)\n",
    "print(\"x1*x2=:\",c)\n",
    "print(\"x1/x2=:\",d)"
   ]
  },
  {
   "cell_type": "markdown",
   "id": "843620bc-fa25-4a86-ab4f-015360630dc3",
   "metadata": {},
   "source": [
    "#### 4.Write Python code that displays the numbers from 1 to 5 as steps."
   ]
  },
  {
   "cell_type": "code",
   "execution_count": 14,
   "id": "60438ca3-a79f-4185-abd8-e0529026b50d",
   "metadata": {},
   "outputs": [
    {
     "name": "stdout",
     "output_type": "stream",
     "text": [
      "1\n",
      "2\n",
      "3\n",
      "4\n",
      "5\n"
     ]
    }
   ],
   "source": [
    "    for a in range(1,6):\n",
    "          print(a)"
   ]
  },
  {
   "cell_type": "markdown",
   "id": "33e44271-416e-4c18-a513-2679894d439c",
   "metadata": {},
   "source": [
    "#### 5.Write Python code that outputs the following sentence (including the quotation marks and line break) to the screen."
   ]
  },
  {
   "cell_type": "markdown",
   "id": "99b82dcf-14d3-4979-b004-fa491e4a80de",
   "metadata": {},
   "source": [
    "#An example runs of the program:  \n",
    "\"SDK\" stands for \"Software Development Kit\", whereas \n",
    "\"IDE\" stands for \"Integrated Development Environment\". \n",
    "\n",
    "\n",
    "\n"
   ]
  },
  {
   "cell_type": "code",
   "execution_count": 20,
   "id": "891d09a4-341e-4c5e-930d-46e71698e0c5",
   "metadata": {},
   "outputs": [
    {
     "name": "stdout",
     "output_type": "stream",
     "text": [
      "\"SDK\" stands for \"Software Development Kit\", Whereas\n",
      "\"IDE\" stands for \"Integrated Develepment Environment\"\n"
     ]
    }
   ],
   "source": [
    "print('\"SDK\" stands for \"Software Development Kit\", Whereas\\n\"IDE\" stands for \"Integrated Develepment Environment\"')"
   ]
  },
  {
   "cell_type": "markdown",
   "id": "ee7d5428-8ded-4b5d-9642-9acb9d3c018e",
   "metadata": {},
   "source": [
    "#### 6.Practice and check the output"
   ]
  },
  {
   "cell_type": "code",
   "execution_count": 23,
   "id": "59196917-0f0c-4afb-af43-b8a1c358b718",
   "metadata": {},
   "outputs": [],
   "source": [
    "#print(\"python is an \"awesome\" language.\")\n",
    "\n",
    "#print(\"python\\n\\t2023\")\n",
    "\n",
    "#print('I'm from Entri.\\b')\n",
    "\n",
    "#print(\"\\65\")\n",
    "\n",
    "#print(\"\\x65\")\n",
    "\n",
    "#print(\"Entri\", \"2023\", sep=\"\\n\")\n",
    "\n",
    "#print(\"Entri\", \"2023\", sep=\"\\b\")\n",
    "\n",
    "#print(\"Entri\", \"2023\", sep=\"*\", end=\"\\b\\b\\b\\b\")"
   ]
  },
  {
   "cell_type": "code",
   "execution_count": 27,
   "id": "d896f35f-7ce1-4c97-bcf5-8ead0ad10df7",
   "metadata": {},
   "outputs": [
    {
     "name": "stdout",
     "output_type": "stream",
     "text": [
      "python is an \"awesome\" language.\n",
      "python\n",
      "\t2023\n",
      "I'm from Entri\n",
      "5\n",
      "e\n",
      "Entri\n",
      "2023\n",
      "Entr2023\n",
      "Entri*20"
     ]
    }
   ],
   "source": [
    "print(\"python is an \\\"awesome\\\" language.\")\n",
    "\n",
    "print(\"python\\n\\t2023\")\n",
    "\n",
    "print('I\\'m from Entri.\\b')\n",
    "\n",
    "print(\"\\65\")\n",
    "\n",
    "print(\"\\x65\")\n",
    "\n",
    "print(\"Entri\", \"2023\", sep=\"\\n\")\n",
    "\n",
    "print(\"Entri\", \"2023\", sep=\"\\b\")\n",
    "\n",
    "print(\"Entri\", \"2023\", sep=\"*\", end=\"\\b\\b\\b\\b\")\n",
    "\n"
   ]
  },
  {
   "cell_type": "markdown",
   "id": "59669f7c-fc46-4ec8-ade6-0cfc35c6331b",
   "metadata": {},
   "source": [
    "#### 7.Define the variables below. Print the types of each variable.\n",
    "What is the sum of your variables? (Hint: use a type conversion function.) What datatype is the sum?"
   ]
  },
  {
   "cell_type": "code",
   "execution_count": 34,
   "id": "b7d01740-a997-4467-8b3a-01d2b05c0533",
   "metadata": {},
   "outputs": [
    {
     "name": "stdout",
     "output_type": "stream",
     "text": [
      "Type of variable1 : <class 'int'>\n",
      "Type of variable2 : <class 'float'>\n",
      "Type of variable 3: <class 'str'>\n",
      "Sum of variables is : 6.5\n",
      "Datatype of variable \"Sum\" is <class 'float'>\n"
     ]
    }
   ],
   "source": [
    "variable1=1\n",
    "variable2=2.5\n",
    "variable3=\"3\"\n",
    "print(\"Type of variable1 :\", type(variable1))\n",
    "print(\"Type of variable2 :\", type(variable2))\n",
    "print(\"Type of variable 3:\", type(variable3))\n",
    "Sum=variable1+variable2+int(variable3)\n",
    "print(\"Sum of variables is :\", Sum)\n",
    "print(\"Datatype of variable \\\"Sum\\\" is\",type(sum))\n"
   ]
  },
  {
   "cell_type": "markdown",
   "id": "51cd637f-b37d-4ecb-8f46-2ef80a7274f9",
   "metadata": {},
   "source": [
    "#### 8.Calculate the number of minutes in a year using variables for each unit of time.\n",
    "Print a statement that describes what your code does also.\n",
    "Create three variables to store no of days in a year, minute in a hour, hours in a day, then calculate the total minutes in a year and print the values\n",
    "(hint) total number of minutes in an year =No.of days in an year * Hours in a day * Minutes in an hour"
   ]
  },
  {
   "cell_type": "code",
   "execution_count": 39,
   "id": "9c015017-9c90-403f-86fd-a750878e7e14",
   "metadata": {},
   "outputs": [
    {
     "name": "stdout",
     "output_type": "stream",
     "text": [
      "the total minutes in a year is calculated by multipying minutes in an hour, hours in a day and no of days in a year\n",
      "total no.of minutes in an year= 525600\n"
     ]
    }
   ],
   "source": [
    "no_of_days_yr=365    #no of days in a year\n",
    "min_in_hr=60       #Minutes in an hour     \n",
    "hr_in_day=24         # Hour in a day\n",
    "min_in_yr=min_in_hr*hr_in_day*no_of_days_yr #Calculate minutes in a year\n",
    "print(\"the total minutes in a year is calculated by multipying minutes in an hour, hours in a day and no of days in a year\")\n",
    "print(\"total no.of minutes in an year=\",min_in_yr)"
   ]
  },
  {
   "cell_type": "markdown",
   "id": "fb807509-7f1f-4a54-a092-20f742d26a89",
   "metadata": {},
   "source": [
    "#### 9.Write Python code that asks the user to enter his/her name and then output/prints his/her name with a greeting."
   ]
  },
  {
   "cell_type": "code",
   "execution_count": 44,
   "id": "26553e48-4e30-4df2-bc28-bc823848673f",
   "metadata": {},
   "outputs": [
    {
     "name": "stdin",
     "output_type": "stream",
     "text": [
      "please enter your name: Adam\n"
     ]
    },
    {
     "name": "stdout",
     "output_type": "stream",
     "text": [
      "Hi Adam,welcome to python programming!\n"
     ]
    }
   ],
   "source": [
    "Name=input(\"please enter your name:\")\n",
    "print(\"Hi\",Name.capitalize(),\"\\b,welcome to python programming!\")"
   ]
  },
  {
   "cell_type": "markdown",
   "id": "0c5f9662-7006-43b8-b123-a333f3bd147c",
   "metadata": {},
   "source": [
    "#### 10.Name your file: PoundsToDollars.py\n",
    "Write a program that asks the user to enter an amount in pounds (£) and the program calculates and converts an amount in dollar ($)"
   ]
  },
  {
   "cell_type": "code",
   "execution_count": 49,
   "id": "3f740e23-9c83-4b19-b096-1adbb217abff",
   "metadata": {},
   "outputs": [
    {
     "name": "stdin",
     "output_type": "stream",
     "text": [
      "Enter amount in pounds (£): 7.99\n"
     ]
    },
    {
     "name": "stdout",
     "output_type": "stream",
     "text": [
      "7.99 pounds is equivalent to 9.7478 dollars\n"
     ]
    }
   ],
   "source": [
    "in_pounds=float(input(\"Enter amount in pounds (£):\"))\n",
    "to_dollars=in_pounds*1.22\n",
    "print(in_pounds,\"pounds is equivalent to\",to_dollars,\"dollars\")"
   ]
  },
  {
   "cell_type": "code",
   "execution_count": null,
   "id": "ddb4cd50-d194-45ed-8214-176fa0c2c115",
   "metadata": {},
   "outputs": [],
   "source": []
  }
 ],
 "metadata": {
  "kernelspec": {
   "display_name": "Python [conda env:Python works]",
   "language": "python",
   "name": "conda-env-Python_works-py"
  },
  "language_info": {
   "codemirror_mode": {
    "name": "ipython",
    "version": 3
   },
   "file_extension": ".py",
   "mimetype": "text/x-python",
   "name": "python",
   "nbconvert_exporter": "python",
   "pygments_lexer": "ipython3",
   "version": "3.12.7"
  }
 },
 "nbformat": 4,
 "nbformat_minor": 5
}
