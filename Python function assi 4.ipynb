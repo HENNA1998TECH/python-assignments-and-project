{
 "cells": [
  {
   "cell_type": "markdown",
   "id": "2a8ed14a-1ab2-4b3f-b190-e5713c49b087",
   "metadata": {},
   "source": [
    "#### Exercise 1\n",
    "##### Create a function that takes in three arguments, two of which are optional. The first argument should be a required positional argument, the second argument should be a keyword argument with a default value of 10, and the third argument should be a keyword argument with a default value of None. The function should print the sum of the first two arguments if the third argument is None, and print the product of all three arguments if the third argument is not None."
   ]
  },
  {
   "cell_type": "code",
   "execution_count": 2,
   "id": "87663db2-5009-45f7-93a8-98ef0daf6dd8",
   "metadata": {},
   "outputs": [
    {
     "name": "stdout",
     "output_type": "stream",
     "text": [
      "80\n",
      "10\n"
     ]
    }
   ],
   "source": [
    "def sum_arg (a,b = 10,c = \"none\"):\n",
    "    if c==\"none\":\n",
    "        return a+b\n",
    "    else:\n",
    "        return a*b*c\n",
    "\n",
    "print(sum_arg(2,c=4))\n",
    "print(sum_arg(4,b=6))\n"
   ]
  },
  {
   "cell_type": "markdown",
   "id": "edf29f52-8571-4146-9c5b-6f7d18b48e71",
   "metadata": {},
   "source": [
    "#### Exercise 2\n",
    "##### Write a function that takes in a list of strings and returns a new list with only the strings that have a length greater than or equal to 5. "
   ]
  },
  {
   "cell_type": "code",
   "execution_count": 16,
   "id": "18196bc6-4d5c-4275-a4f4-2b66a125f441",
   "metadata": {},
   "outputs": [
    {
     "name": "stdin",
     "output_type": "stream",
     "text": [
      "enter the list of strings: 4\n",
      "enter the list of strings: 7\n",
      "enter the list of strings: New york\n",
      "enter the list of strings: London\n",
      "enter the list of strings: Preston\n",
      "enter the list of strings: Manchester\n",
      "enter the list of strings: Blackpool\n"
     ]
    }
   ],
   "source": [
    "l1 = []\n",
    "for i in range(7):\n",
    "    a=input(\"enter the list of strings:\")\n",
    "    l1.append(a)\n",
    "    l2=[]\n",
    "    def fun_name(l1):\n",
    "        for i in l1:\n",
    "            if len(i)>=5:\n",
    "                l2.append(i)\n",
    "            return l2\n",
    "        print(fun_name(l1))\n",
    "                "
   ]
  },
  {
   "cell_type": "markdown",
   "id": "16620928-23de-47bc-b41c-400ccb63b8b9",
   "metadata": {},
   "source": [
    "#### Exercise 3\n",
    "##### Write a Python program to evaluate a given mathematical expression using the eval() function. expression = \"3 * 5 + 2\" ."
   ]
  },
  {
   "cell_type": "code",
   "execution_count": 19,
   "id": "849fa66c-85e2-48ec-a91d-dc02de9efa14",
   "metadata": {},
   "outputs": [
    {
     "name": "stdout",
     "output_type": "stream",
     "text": [
      "result: 17\n"
     ]
    }
   ],
   "source": [
    "print(\"result:\",eval(\"3*5+2\"))"
   ]
  },
  {
   "cell_type": "markdown",
   "id": "dc541d60-77b0-4f6a-baf9-8519b6c5460f",
   "metadata": {},
   "source": [
    "#### Exercise 4\n",
    "##### Write a Python program to filter out the prime numbers from a given list of integers using the filter() function."
   ]
  },
  {
   "cell_type": "code",
   "execution_count": 28,
   "id": "51c2659e-fdb2-4256-93d3-515fc09bea0f",
   "metadata": {},
   "outputs": [
    {
     "name": "stdin",
     "output_type": "stream",
     "text": [
      "Enter the list elements:  4\n",
      "Enter the list elements:  6\n",
      "Enter the list elements:  8\n",
      "Enter the list elements:  9\n",
      "Enter the list elements:  0\n",
      "Enter the list elements:  5\n"
     ]
    },
    {
     "name": "stdout",
     "output_type": "stream",
     "text": [
      "[0, 5]\n"
     ]
    }
   ],
   "source": [
    " l1 = [int(input(\"Enter the list elements: \")) for _ in range(6)]\n",
    "\n",
    " def is_prime(n):\n",
    "     if n==1:\n",
    "         return False\n",
    "     else:\n",
    "         for j in range(2,int(n**0.5)+1):\n",
    "             if n%j==0:\n",
    "                 return False\n",
    "         return True\n",
    " prime_numbers=filter(is_prime,l1)\n",
    " print(list(prime_numbers))\n"
   ]
  },
  {
   "cell_type": "markdown",
   "id": "512bc28d-5ae8-4362-b6f6-64fd574d5baf",
   "metadata": {},
   "source": [
    "#### Exercise 5\n",
    "##### Write a Python program to convert a list of strings to uppercase using the map() function."
   ]
  },
  {
   "cell_type": "code",
   "execution_count": 47,
   "id": "48c14323-8f45-4013-abb8-111221db89e9",
   "metadata": {},
   "outputs": [
    {
     "name": "stdin",
     "output_type": "stream",
     "text": [
      "enter list string element: kerala\n",
      "enter list string element: tamilnadu\n",
      "enter list string element: gujarat\n",
      "enter list string element: chandigarh\n",
      "enter list string element: assam\n"
     ]
    },
    {
     "name": "stdout",
     "output_type": "stream",
     "text": [
      "['KERALA', 'TAMILNADU', 'GUJARAT', 'CHANDIGARH', 'ASSAM']\n"
     ]
    }
   ],
   "source": [
    "l1= [input(\"enter list string element:\")for _ in range(5)]\n",
    "upper_string =map(lambda x:x.upper(),l1)\n",
    "print(list(upper_string))"
   ]
  },
  {
   "cell_type": "code",
   "execution_count": null,
   "id": "d6415ab6-151e-4c8d-8e3a-7966549783e5",
   "metadata": {},
   "outputs": [],
   "source": []
  }
 ],
 "metadata": {
  "kernelspec": {
   "display_name": "Python [conda env:Python works]",
   "language": "python",
   "name": "conda-env-Python_works-py"
  },
  "language_info": {
   "codemirror_mode": {
    "name": "ipython",
    "version": 3
   },
   "file_extension": ".py",
   "mimetype": "text/x-python",
   "name": "python",
   "nbconvert_exporter": "python",
   "pygments_lexer": "ipython3",
   "version": "3.12.7"
  }
 },
 "nbformat": 4,
 "nbformat_minor": 5
}
