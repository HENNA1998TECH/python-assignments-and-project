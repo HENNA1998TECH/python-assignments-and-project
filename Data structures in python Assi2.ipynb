{
 "cells": [
  {
   "cell_type": "markdown",
   "id": "36552b5b-6331-46cf-9814-b5c47e800446",
   "metadata": {},
   "source": [
    "## DATA STRUCTURES IN PYTHON"
   ]
  },
  {
   "cell_type": "markdown",
   "id": "a2aac82c-386a-4ed7-a72c-77b6e8bf2bfd",
   "metadata": {},
   "source": [
    "####  Topic 1; List"
   ]
  },
  {
   "cell_type": "markdown",
   "id": "cd3c4e55-6881-4fde-9f5b-0f36d14af920",
   "metadata": {},
   "source": [
    "##### Exercise\n",
    "##### Q1. Create a list of 5 random numbers and print the list.\n",
    "##### Q2. Insert 3 new values to the list and print the updated list.\n",
    "##### Q3. Try to use a for loop to print each element in the list.\n"
   ]
  },
  {
   "cell_type": "code",
   "execution_count": 15,
   "id": "4b8e20f9-2116-4dcd-a240-13ded5b64ca2",
   "metadata": {},
   "outputs": [
    {
     "name": "stdout",
     "output_type": "stream",
     "text": [
      "original list: [77, 44, 12, 28, 29]\n"
     ]
    }
   ],
   "source": [
    "import random\n",
    "#create a list 5 random numbers and print the list\n",
    "random_numbers = [random.randint(1,100) for _ in range(5)]\n",
    "print(\"original list:\",random_numbers)"
   ]
  },
  {
   "cell_type": "code",
   "execution_count": 19,
   "id": "1db3657d-d465-44fe-a9b6-2064ca8b40fc",
   "metadata": {},
   "outputs": [
    {
     "name": "stdout",
     "output_type": "stream",
     "text": [
      "updated list: [77, 44, 12, 28, 29, 19, 99, 89]\n"
     ]
    }
   ],
   "source": [
    "#Adding 3 new random values\n",
    "random_numbers.append(random.randint(1,100))\n",
    "random_numbers.append(random.randint(1,100))\n",
    "random_numbers.append(random.randint(1,100))\n",
    "\n",
    "print(\"updated list:\",random_numbers)"
   ]
  },
  {
   "cell_type": "code",
   "execution_count": 21,
   "id": "a5847eff-2654-4874-83c9-0fc05ceb82e7",
   "metadata": {},
   "outputs": [
    {
     "name": "stdout",
     "output_type": "stream",
     "text": [
      "Elements in the list:\n",
      "77\n",
      "44\n",
      "12\n",
      "28\n",
      "29\n",
      "19\n",
      "99\n",
      "89\n"
     ]
    }
   ],
   "source": [
    "#printing each element using a for loop\n",
    "print(\"Elements in the list:\")\n",
    "for number in random_numbers:\n",
    "    print(number)"
   ]
  },
  {
   "cell_type": "markdown",
   "id": "cb526a7d-ac36-478d-ac08-06fdc64cfc03",
   "metadata": {},
   "source": [
    "### Topic2: Dictionary"
   ]
  },
  {
   "cell_type": "markdown",
   "id": "7e9b4fad-4b3e-4641-b420-8abd5bb8886d",
   "metadata": {},
   "source": [
    "#### Exercise\n",
    "##### Q1. Create a dictionary with keys 'name', 'age', and 'address' and values 'John', 25, and 'New York' respectively. \n",
    "##### Q2. Add a new key-value pair to the dictionary created in Q1 with key 'phone' and value '1234567890'."
   ]
  },
  {
   "cell_type": "code",
   "execution_count": 26,
   "id": "ec886fcf-0a47-4ecc-9ffc-ac69db60c051",
   "metadata": {},
   "outputs": [
    {
     "name": "stdout",
     "output_type": "stream",
     "text": [
      "Dictionary: {'name': 'John', 'age': 25, 'address': 'New York'}\n"
     ]
    }
   ],
   "source": [
    "# creating a dictionary\n",
    "person = {\n",
    "    'name': 'John',\n",
    "    'age': 25,\n",
    "    'address':'New York'\n",
    "}\n",
    "\n",
    "print(\"Dictionary:\",person)"
   ]
  },
  {
   "cell_type": "code",
   "execution_count": 28,
   "id": "cc674d7e-35a7-47c2-b481-b224d5268a27",
   "metadata": {},
   "outputs": [
    {
     "name": "stdout",
     "output_type": "stream",
     "text": [
      "Updated Dictionary: {'name': 'John', 'age': 25, 'address': 'New York', 'phone': '1234567890'}\n"
     ]
    }
   ],
   "source": [
    "person.update({'phone':'1234567890'})\n",
    "print(\"Updated Dictionary:\",person)"
   ]
  },
  {
   "cell_type": "markdown",
   "id": "0c22ce83-612a-4874-b5ac-ebc1f6ae2713",
   "metadata": {},
   "source": [
    "### Topic3:Set"
   ]
  },
  {
   "cell_type": "markdown",
   "id": "8192419f-4b0f-43a9-8856-8ac6e34a7876",
   "metadata": {},
   "source": [
    "#### Exercise\n",
    "##### Q1.Create a set with values 1, 2, 3, 4, and 5.\n",
    "##### Q2. Add the value 6 to the set created in Q1. \n",
    "##### Q3. Remove the value 3 from the set created in Q1."
   ]
  },
  {
   "cell_type": "code",
   "execution_count": 33,
   "id": "b70280ab-acbe-4601-829a-ffc23f163028",
   "metadata": {},
   "outputs": [
    {
     "name": "stdout",
     "output_type": "stream",
     "text": [
      "Orignal numbers is : {1, 2, 3, 4, 5}\n"
     ]
    }
   ],
   "source": [
    "#creating set\n",
    "numbers = {1,2,3,4,5}\n",
    "print (\"Orginal numbers is :\",numbers)"
   ]
  },
  {
   "cell_type": "code",
   "execution_count": 35,
   "id": "39ea23c1-e3a0-4a29-94e6-e49f8a679150",
   "metadata": {},
   "outputs": [
    {
     "name": "stdout",
     "output_type": "stream",
     "text": [
      "Orignal numbers after adding: {1, 2, 3, 4, 5, 6}\n"
     ]
    }
   ],
   "source": [
    "numbers.add(6)\n",
    "print(\"Orginal numbers after adding:\",numbers)"
   ]
  },
  {
   "cell_type": "code",
   "execution_count": 37,
   "id": "60b62d0b-604e-45c9-91a4-d4eb6e18b237",
   "metadata": {},
   "outputs": [
    {
     "name": "stdout",
     "output_type": "stream",
     "text": [
      "Orginal numbers after removing: {1, 2, 4, 5, 6}\n"
     ]
    }
   ],
   "source": [
    "numbers.remove(3)\n",
    "print(\"Orginal numbers after removing:\",numbers)"
   ]
  },
  {
   "cell_type": "markdown",
   "id": "be1f77e9-01dc-489b-a008-b8cb827237fa",
   "metadata": {},
   "source": [
    "#### Topic4:Tuple"
   ]
  },
  {
   "cell_type": "markdown",
   "id": "95405f8b-5242-44a8-b42a-950b94390ef2",
   "metadata": {},
   "source": [
    "#### Excerise\n",
    "#####  Q1. Create a tuple with values 1, 2, 3, and 4 \n",
    "#####  Q2. Print the length of the tuple created in Q1"
   ]
  },
  {
   "cell_type": "code",
   "execution_count": 42,
   "id": "7331cd11-3cc2-47ea-b445-d0a92e9e0bfe",
   "metadata": {},
   "outputs": [
    {
     "name": "stdout",
     "output_type": "stream",
     "text": [
      "Tuple: (1, 2, 3, 4)\n"
     ]
    }
   ],
   "source": [
    "#creating tuple\n",
    "numbers =(1,2,3,4)\n",
    "\n",
    "print(\"Tuple:\",numbers)"
   ]
  },
  {
   "cell_type": "code",
   "execution_count": 44,
   "id": "b1c5a45d-a3ab-4293-b471-983e25225a43",
   "metadata": {},
   "outputs": [
    {
     "name": "stdout",
     "output_type": "stream",
     "text": [
      "Length of the Tuple is: 4\n"
     ]
    }
   ],
   "source": [
    "#print the lenght of the tuple\n",
    "print(\"Length of the Tuple is:\",len(numbers))"
   ]
  },
  {
   "cell_type": "code",
   "execution_count": null,
   "id": "4a4851b1-2655-4233-a60a-0cbcea2fc12b",
   "metadata": {},
   "outputs": [],
   "source": []
  }
 ],
 "metadata": {
  "kernelspec": {
   "display_name": "Python [conda env:Python works]",
   "language": "python",
   "name": "conda-env-Python_works-py"
  },
  "language_info": {
   "codemirror_mode": {
    "name": "ipython",
    "version": 3
   },
   "file_extension": ".py",
   "mimetype": "text/x-python",
   "name": "python",
   "nbconvert_exporter": "python",
   "pygments_lexer": "ipython3",
   "version": "3.12.7"
  }
 },
 "nbformat": 4,
 "nbformat_minor": 5
}
